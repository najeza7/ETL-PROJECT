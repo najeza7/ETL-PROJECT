{
 "cells": [
  {
   "cell_type": "code",
   "execution_count": 1,
   "metadata": {},
   "outputs": [],
   "source": [
    "# Import dependecies needed\n",
    "import pandas as pd"
   ]
  },
  {
   "cell_type": "code",
   "execution_count": 66,
   "metadata": {},
   "outputs": [],
   "source": [
    "# Read data frames \n",
    "df_netflix = pd.read_csv(\"Resources/netflix_titles.csv\", encoding = \"ISO-8859-1\")\n",
    "df_oscars = pd.read_csv(\"Resources/oscars_csv.csv\", encoding = \"ISO-8859-1\")\n",
    "df_oscars_act = pd.read_csv(\"Resources/oscars_act.csv\",encoding = \"ISO-8859-1\")"
   ]
  },
  {
   "cell_type": "markdown",
   "metadata": {},
   "source": [
    "## NETFLIX DATA FRAME EXPLORATION AND CLEANING"
   ]
  },
  {
   "cell_type": "code",
   "execution_count": 67,
   "metadata": {},
   "outputs": [
    {
     "data": {
      "text/html": [
       "<div>\n",
       "<style scoped>\n",
       "    .dataframe tbody tr th:only-of-type {\n",
       "        vertical-align: middle;\n",
       "    }\n",
       "\n",
       "    .dataframe tbody tr th {\n",
       "        vertical-align: top;\n",
       "    }\n",
       "\n",
       "    .dataframe thead th {\n",
       "        text-align: right;\n",
       "    }\n",
       "</style>\n",
       "<table border=\"1\" class=\"dataframe\">\n",
       "  <thead>\n",
       "    <tr style=\"text-align: right;\">\n",
       "      <th></th>\n",
       "      <th>show_id</th>\n",
       "      <th>type</th>\n",
       "      <th>title</th>\n",
       "      <th>director</th>\n",
       "      <th>cast</th>\n",
       "      <th>country</th>\n",
       "      <th>date_added</th>\n",
       "      <th>release_year</th>\n",
       "      <th>rating</th>\n",
       "      <th>duration</th>\n",
       "      <th>listed_in</th>\n",
       "      <th>description</th>\n",
       "    </tr>\n",
       "  </thead>\n",
       "  <tbody>\n",
       "    <tr>\n",
       "      <th>0</th>\n",
       "      <td>s1</td>\n",
       "      <td>TV Show</td>\n",
       "      <td>3%</td>\n",
       "      <td>NaN</td>\n",
       "      <td>JoÃ£o Miguel, Bianca Comparato, Michel Gomes, ...</td>\n",
       "      <td>Brazil</td>\n",
       "      <td>August 14, 2020</td>\n",
       "      <td>2020</td>\n",
       "      <td>TV-MA</td>\n",
       "      <td>4 Seasons</td>\n",
       "      <td>International TV Shows, TV Dramas, TV Sci-Fi &amp;...</td>\n",
       "      <td>In a future where the elite inhabit an island ...</td>\n",
       "    </tr>\n",
       "    <tr>\n",
       "      <th>1</th>\n",
       "      <td>s2</td>\n",
       "      <td>Movie</td>\n",
       "      <td>7:19</td>\n",
       "      <td>Jorge Michel Grau</td>\n",
       "      <td>DemiÃ¡n Bichir, HÃ©ctor Bonilla, Oscar Serrano...</td>\n",
       "      <td>Mexico</td>\n",
       "      <td>December 23, 2016</td>\n",
       "      <td>2016</td>\n",
       "      <td>TV-MA</td>\n",
       "      <td>93 min</td>\n",
       "      <td>Dramas, International Movies</td>\n",
       "      <td>After a devastating earthquake hits Mexico Cit...</td>\n",
       "    </tr>\n",
       "    <tr>\n",
       "      <th>2</th>\n",
       "      <td>s3</td>\n",
       "      <td>Movie</td>\n",
       "      <td>23:59</td>\n",
       "      <td>Gilbert Chan</td>\n",
       "      <td>Tedd Chan, Stella Chung, Henley Hii, Lawrence ...</td>\n",
       "      <td>Singapore</td>\n",
       "      <td>December 20, 2018</td>\n",
       "      <td>2011</td>\n",
       "      <td>R</td>\n",
       "      <td>78 min</td>\n",
       "      <td>Horror Movies, International Movies</td>\n",
       "      <td>When an army recruit is found dead, his fellow...</td>\n",
       "    </tr>\n",
       "    <tr>\n",
       "      <th>3</th>\n",
       "      <td>s4</td>\n",
       "      <td>Movie</td>\n",
       "      <td>9</td>\n",
       "      <td>Shane Acker</td>\n",
       "      <td>Elijah Wood, John C. Reilly, Jennifer Connelly...</td>\n",
       "      <td>United States</td>\n",
       "      <td>November 16, 2017</td>\n",
       "      <td>2009</td>\n",
       "      <td>PG-13</td>\n",
       "      <td>80 min</td>\n",
       "      <td>Action &amp; Adventure, Independent Movies, Sci-Fi...</td>\n",
       "      <td>In a postapocalyptic world, rag-doll robots hi...</td>\n",
       "    </tr>\n",
       "    <tr>\n",
       "      <th>4</th>\n",
       "      <td>s5</td>\n",
       "      <td>Movie</td>\n",
       "      <td>21</td>\n",
       "      <td>Robert Luketic</td>\n",
       "      <td>Jim Sturgess, Kevin Spacey, Kate Bosworth, Aar...</td>\n",
       "      <td>United States</td>\n",
       "      <td>January 1, 2020</td>\n",
       "      <td>2008</td>\n",
       "      <td>PG-13</td>\n",
       "      <td>123 min</td>\n",
       "      <td>Dramas</td>\n",
       "      <td>A brilliant group of students become card-coun...</td>\n",
       "    </tr>\n",
       "  </tbody>\n",
       "</table>\n",
       "</div>"
      ],
      "text/plain": [
       "  show_id     type  title           director  \\\n",
       "0      s1  TV Show     3%                NaN   \n",
       "1      s2    Movie   7:19  Jorge Michel Grau   \n",
       "2      s3    Movie  23:59       Gilbert Chan   \n",
       "3      s4    Movie      9        Shane Acker   \n",
       "4      s5    Movie     21     Robert Luketic   \n",
       "\n",
       "                                                cast        country  \\\n",
       "0  JoÃ£o Miguel, Bianca Comparato, Michel Gomes, ...         Brazil   \n",
       "1  DemiÃ¡n Bichir, HÃ©ctor Bonilla, Oscar Serrano...         Mexico   \n",
       "2  Tedd Chan, Stella Chung, Henley Hii, Lawrence ...      Singapore   \n",
       "3  Elijah Wood, John C. Reilly, Jennifer Connelly...  United States   \n",
       "4  Jim Sturgess, Kevin Spacey, Kate Bosworth, Aar...  United States   \n",
       "\n",
       "          date_added  release_year rating   duration  \\\n",
       "0    August 14, 2020          2020  TV-MA  4 Seasons   \n",
       "1  December 23, 2016          2016  TV-MA     93 min   \n",
       "2  December 20, 2018          2011      R     78 min   \n",
       "3  November 16, 2017          2009  PG-13     80 min   \n",
       "4    January 1, 2020          2008  PG-13    123 min   \n",
       "\n",
       "                                           listed_in  \\\n",
       "0  International TV Shows, TV Dramas, TV Sci-Fi &...   \n",
       "1                       Dramas, International Movies   \n",
       "2                Horror Movies, International Movies   \n",
       "3  Action & Adventure, Independent Movies, Sci-Fi...   \n",
       "4                                             Dramas   \n",
       "\n",
       "                                         description  \n",
       "0  In a future where the elite inhabit an island ...  \n",
       "1  After a devastating earthquake hits Mexico Cit...  \n",
       "2  When an army recruit is found dead, his fellow...  \n",
       "3  In a postapocalyptic world, rag-doll robots hi...  \n",
       "4  A brilliant group of students become card-coun...  "
      ]
     },
     "execution_count": 67,
     "metadata": {},
     "output_type": "execute_result"
    }
   ],
   "source": [
    "# Verify that the data frame has been imported succesfully\n",
    "df_netflix.head(5)"
   ]
  },
  {
   "cell_type": "code",
   "execution_count": 68,
   "metadata": {},
   "outputs": [
    {
     "data": {
      "text/plain": [
       "['show_id',\n",
       " 'type',\n",
       " 'title',\n",
       " 'director',\n",
       " 'cast',\n",
       " 'country',\n",
       " 'date_added',\n",
       " 'release_year',\n",
       " 'rating',\n",
       " 'duration',\n",
       " 'listed_in',\n",
       " 'description']"
      ]
     },
     "execution_count": 68,
     "metadata": {},
     "output_type": "execute_result"
    }
   ],
   "source": [
    "#Check the variables included\n",
    "list(df_netflix.columns)"
   ]
  },
  {
   "cell_type": "markdown",
   "metadata": {},
   "source": [
    "## OSCAR'S DATA FRAME EXPLORATION AND CLEANING"
   ]
  },
  {
   "cell_type": "code",
   "execution_count": 69,
   "metadata": {},
   "outputs": [
    {
     "data": {
      "text/html": [
       "<div>\n",
       "<style scoped>\n",
       "    .dataframe tbody tr th:only-of-type {\n",
       "        vertical-align: middle;\n",
       "    }\n",
       "\n",
       "    .dataframe tbody tr th {\n",
       "        vertical-align: top;\n",
       "    }\n",
       "\n",
       "    .dataframe thead th {\n",
       "        text-align: right;\n",
       "    }\n",
       "</style>\n",
       "<table border=\"1\" class=\"dataframe\">\n",
       "  <thead>\n",
       "    <tr style=\"text-align: right;\">\n",
       "      <th></th>\n",
       "      <th>year</th>\n",
       "      <th>category</th>\n",
       "      <th>winner</th>\n",
       "      <th>entity</th>\n",
       "    </tr>\n",
       "  </thead>\n",
       "  <tbody>\n",
       "    <tr>\n",
       "      <th>0</th>\n",
       "      <td>1927</td>\n",
       "      <td>ACTOR</td>\n",
       "      <td>False</td>\n",
       "      <td>Richard Barthelmess</td>\n",
       "    </tr>\n",
       "    <tr>\n",
       "      <th>1</th>\n",
       "      <td>1927</td>\n",
       "      <td>ACTOR</td>\n",
       "      <td>True</td>\n",
       "      <td>Emil Jannings</td>\n",
       "    </tr>\n",
       "    <tr>\n",
       "      <th>2</th>\n",
       "      <td>1927</td>\n",
       "      <td>ACTRESS</td>\n",
       "      <td>False</td>\n",
       "      <td>Louise Dresser</td>\n",
       "    </tr>\n",
       "    <tr>\n",
       "      <th>3</th>\n",
       "      <td>1927</td>\n",
       "      <td>ACTRESS</td>\n",
       "      <td>True</td>\n",
       "      <td>Janet Gaynor</td>\n",
       "    </tr>\n",
       "    <tr>\n",
       "      <th>4</th>\n",
       "      <td>1927</td>\n",
       "      <td>ACTRESS</td>\n",
       "      <td>False</td>\n",
       "      <td>Gloria Swanson</td>\n",
       "    </tr>\n",
       "  </tbody>\n",
       "</table>\n",
       "</div>"
      ],
      "text/plain": [
       "   year category  winner               entity\n",
       "0  1927    ACTOR   False  Richard Barthelmess\n",
       "1  1927    ACTOR    True        Emil Jannings\n",
       "2  1927  ACTRESS   False       Louise Dresser\n",
       "3  1927  ACTRESS    True         Janet Gaynor\n",
       "4  1927  ACTRESS   False       Gloria Swanson"
      ]
     },
     "execution_count": 69,
     "metadata": {},
     "output_type": "execute_result"
    }
   ],
   "source": [
    "# Verify that the data frame has been imported succesfully\n",
    "df_oscars.head(5)"
   ]
  },
  {
   "cell_type": "code",
   "execution_count": 70,
   "metadata": {},
   "outputs": [
    {
     "data": {
      "text/plain": [
       "['year', 'category', 'winner', 'entity']"
      ]
     },
     "execution_count": 70,
     "metadata": {},
     "output_type": "execute_result"
    }
   ],
   "source": [
    "#Check the variables included \n",
    "list(df_oscars.columns)"
   ]
  },
  {
   "cell_type": "code",
   "execution_count": 71,
   "metadata": {},
   "outputs": [
    {
     "data": {
      "text/html": [
       "<div>\n",
       "<style scoped>\n",
       "    .dataframe tbody tr th:only-of-type {\n",
       "        vertical-align: middle;\n",
       "    }\n",
       "\n",
       "    .dataframe tbody tr th {\n",
       "        vertical-align: top;\n",
       "    }\n",
       "\n",
       "    .dataframe thead th {\n",
       "        text-align: right;\n",
       "    }\n",
       "</style>\n",
       "<table border=\"1\" class=\"dataframe\">\n",
       "  <thead>\n",
       "    <tr style=\"text-align: right;\">\n",
       "      <th></th>\n",
       "      <th>category</th>\n",
       "      <th>winner</th>\n",
       "      <th>entity</th>\n",
       "    </tr>\n",
       "  </thead>\n",
       "  <tbody>\n",
       "    <tr>\n",
       "      <th>0</th>\n",
       "      <td>ACTOR</td>\n",
       "      <td>False</td>\n",
       "      <td>Richard Barthelmess</td>\n",
       "    </tr>\n",
       "    <tr>\n",
       "      <th>1</th>\n",
       "      <td>ACTOR</td>\n",
       "      <td>True</td>\n",
       "      <td>Emil Jannings</td>\n",
       "    </tr>\n",
       "    <tr>\n",
       "      <th>2</th>\n",
       "      <td>ACTRESS</td>\n",
       "      <td>False</td>\n",
       "      <td>Louise Dresser</td>\n",
       "    </tr>\n",
       "    <tr>\n",
       "      <th>3</th>\n",
       "      <td>ACTRESS</td>\n",
       "      <td>True</td>\n",
       "      <td>Janet Gaynor</td>\n",
       "    </tr>\n",
       "    <tr>\n",
       "      <th>4</th>\n",
       "      <td>ACTRESS</td>\n",
       "      <td>False</td>\n",
       "      <td>Gloria Swanson</td>\n",
       "    </tr>\n",
       "  </tbody>\n",
       "</table>\n",
       "</div>"
      ],
      "text/plain": [
       "  category  winner               entity\n",
       "0    ACTOR   False  Richard Barthelmess\n",
       "1    ACTOR    True        Emil Jannings\n",
       "2  ACTRESS   False       Louise Dresser\n",
       "3  ACTRESS    True         Janet Gaynor\n",
       "4  ACTRESS   False       Gloria Swanson"
      ]
     },
     "execution_count": 71,
     "metadata": {},
     "output_type": "execute_result"
    }
   ],
   "source": [
    "# Clone the oscars data frame with the variables we need, so we can modify over this one and keep the original intact.\n",
    "df_oscars_m = df_oscars[['category','winner', 'entity']]\n",
    "\n",
    "df_oscars_m.head()"
   ]
  },
  {
   "cell_type": "code",
   "execution_count": 72,
   "metadata": {},
   "outputs": [
    {
     "data": {
      "text/plain": [
       "array(['ACTOR', 'ACTRESS', 'ART DIRECTION', 'CINEMATOGRAPHY',\n",
       "       'DIRECTING (Comedy Picture)', 'DIRECTING (Dramatic Picture)',\n",
       "       'ENGINEERING EFFECTS', 'OUTSTANDING PICTURE',\n",
       "       'UNIQUE AND ARTISTIC PICTURE', 'WRITING (Adaptation)',\n",
       "       'WRITING (Original Story)', 'WRITING (Title Writing)',\n",
       "       'SPECIAL AWARD', 'DIRECTING', 'WRITING', 'OUTSTANDING PRODUCTION',\n",
       "       'SOUND RECORDING', 'SCIENTIFIC OR TECHNICAL AWARD (Class I)',\n",
       "       'SCIENTIFIC OR TECHNICAL AWARD (Class II)',\n",
       "       'SCIENTIFIC OR TECHNICAL AWARD (Class III)',\n",
       "       'SHORT SUBJECT (Cartoon)', 'SHORT SUBJECT (Comedy)',\n",
       "       'SHORT SUBJECT (Novelty)', 'ASSISTANT DIRECTOR', 'FILM EDITING',\n",
       "       'MUSIC (Scoring)', 'MUSIC (Song)', 'DANCE DIRECTION',\n",
       "       'WRITING (Screenplay)', 'ACTOR IN A SUPPORTING ROLE',\n",
       "       'ACTRESS IN A SUPPORTING ROLE', 'SHORT SUBJECT (Color)',\n",
       "       'SHORT SUBJECT (One-reel)', 'SHORT SUBJECT (Two-reel)',\n",
       "       'IRVING G. THALBERG MEMORIAL AWARD', 'MUSIC (Original Score)',\n",
       "       'CINEMATOGRAPHY (Black-and-White)', 'CINEMATOGRAPHY (Color)',\n",
       "       'SPECIAL EFFECTS', 'ART DIRECTION (Black-and-White)',\n",
       "       'ART DIRECTION (Color)', 'WRITING (Original Screenplay)',\n",
       "       'DOCUMENTARY (Short Subject)',\n",
       "       'MUSIC (Music Score of a Dramatic Picture)',\n",
       "       'MUSIC (Scoring of a Musical Picture)',\n",
       "       'OUTSTANDING MOTION PICTURE', 'DOCUMENTARY',\n",
       "       'MUSIC (Music Score of a Dramatic or Comedy Picture)',\n",
       "       'WRITING (Original Motion Picture Story)', 'DOCUMENTARY (Feature)',\n",
       "       'BEST MOTION PICTURE', 'WRITING (Motion Picture Story)',\n",
       "       'COSTUME DESIGN (Black-and-White)', 'COSTUME DESIGN (Color)',\n",
       "       'SPECIAL FOREIGN LANGUAGE FILM AWARD',\n",
       "       'WRITING (Story and Screenplay)',\n",
       "       'HONORARY FOREIGN LANGUAGE FILM AWARD', 'HONORARY AWARD',\n",
       "       'FOREIGN LANGUAGE FILM', 'WRITING (Screenplay--Adapted)',\n",
       "       'WRITING (Screenplay--Original)',\n",
       "       'JEAN HERSHOLT HUMANITARIAN AWARD', 'COSTUME DESIGN',\n",
       "       'SHORT SUBJECT (Live Action)',\n",
       "       'WRITING (Screenplay--based on material from another medium)',\n",
       "       'WRITING (Story and Screenplay--written directly for the screen)',\n",
       "       'SOUND', 'MUSIC (Music Score--substantially original)',\n",
       "       'MUSIC (Scoring of Music--adaptation or treatment)',\n",
       "       'BEST PICTURE', 'SOUND EFFECTS', 'SPECIAL VISUAL EFFECTS',\n",
       "       'MUSIC (Original Music Score)',\n",
       "       'MUSIC (Original Score--for a motion picture [not a musical])',\n",
       "       'MUSIC (Score of a Musical Picture--original or adaptation)',\n",
       "       'MUSIC (Song--Original for the Picture)',\n",
       "       'WRITING (Story and Screenplay--based on material not previously published or produced)',\n",
       "       'MUSIC (Original Song Score)',\n",
       "       'WRITING (Story and Screenplay--based on factual material or material not previously published or produced)',\n",
       "       'MUSIC (Original Dramatic Score)',\n",
       "       'MUSIC (Scoring: Adaptation and Original Song Score)',\n",
       "       'SHORT SUBJECT (Animated)',\n",
       "       'SPECIAL ACHIEVEMENT AWARD (Visual Effects)',\n",
       "       'MUSIC (Scoring: Original Song Score and Adaptation -or- Scoring: Adaptation)',\n",
       "       'SHORT FILM (Animated)', 'SHORT FILM (Live Action)',\n",
       "       'WRITING (Screenplay Adapted from Other Material)',\n",
       "       'MUSIC (Original Song)',\n",
       "       'SPECIAL ACHIEVEMENT AWARD (Sound Effects)',\n",
       "       'ACTOR IN A LEADING ROLE', 'ACTRESS IN A LEADING ROLE',\n",
       "       'MUSIC (Original Song Score and Its Adaptation or Adaptation Score)',\n",
       "       'WRITING (Screenplay Written Directly for the Screen--based on factual material or on story material not previously published or produced)',\n",
       "       'VISUAL EFFECTS', 'SPECIAL ACHIEVEMENT AWARD',\n",
       "       'SPECIAL ACHIEVEMENT AWARD (Sound Effects Editing)',\n",
       "       'MEDAL OF COMMENDATION', 'MUSIC (Adaptation Score)',\n",
       "       'WRITING (Screenplay Based on Material from Another Medium)',\n",
       "       'WRITING (Screenplay Written Directly for the Screen)',\n",
       "       'SCIENTIFIC OR TECHNICAL AWARD (Academy Award of Merit)',\n",
       "       'SCIENTIFIC OR TECHNICAL AWARD (Scientific and Engineering Award)',\n",
       "       'SCIENTIFIC OR TECHNICAL AWARD (Technical Achievement Award)',\n",
       "       'MUSIC (Original Song Score and Its Adaptation -or- Adaptation Score)',\n",
       "       'SPECIAL ACHIEVEMENT AWARD (Sound Editing)',\n",
       "       'SHORT FILM (Dramatic Live Action)', 'MAKEUP',\n",
       "       'GORDON E. SAWYER AWARD', 'SOUND EFFECTS EDITING',\n",
       "       'MUSIC (Original Song Score or Adaptation Score)',\n",
       "       'AWARD OF COMMENDATION',\n",
       "       'WRITING (Screenplay Based on Material Previously Produced or Published)',\n",
       "       'SCIENTIFIC AND TECHNICAL AWARD (Academy Award of Merit)',\n",
       "       'SCIENTIFIC AND TECHNICAL AWARD (Scientific and Engineering Award)',\n",
       "       'SCIENTIFIC AND TECHNICAL AWARD (Technical Achievement Award)',\n",
       "       'MUSIC (Original Musical or Comedy Score)',\n",
       "       'JOHN A. BONNER MEDAL OF COMMENDATION', 'SOUND EDITING',\n",
       "       'ANIMATED FEATURE FILM', 'WRITING (Adapted Screenplay)',\n",
       "       'SOUND MIXING', 'MAKEUP AND HAIRSTYLING', 'PRODUCTION DESIGN',\n",
       "       'SCIENTIFIC AND TECHNICAL AWARD (Special Award)'], dtype=object)"
      ]
     },
     "execution_count": 72,
     "metadata": {},
     "output_type": "execute_result"
    }
   ],
   "source": [
    "# Verify variable category values \n",
    "df_oscars_m['category'].unique()"
   ]
  },
  {
   "cell_type": "code",
   "execution_count": 73,
   "metadata": {},
   "outputs": [
    {
     "data": {
      "text/html": [
       "<div>\n",
       "<style scoped>\n",
       "    .dataframe tbody tr th:only-of-type {\n",
       "        vertical-align: middle;\n",
       "    }\n",
       "\n",
       "    .dataframe tbody tr th {\n",
       "        vertical-align: top;\n",
       "    }\n",
       "\n",
       "    .dataframe thead th {\n",
       "        text-align: right;\n",
       "    }\n",
       "</style>\n",
       "<table border=\"1\" class=\"dataframe\">\n",
       "  <thead>\n",
       "    <tr style=\"text-align: right;\">\n",
       "      <th></th>\n",
       "      <th>category</th>\n",
       "      <th>winner</th>\n",
       "      <th>entity</th>\n",
       "    </tr>\n",
       "  </thead>\n",
       "  <tbody>\n",
       "    <tr>\n",
       "      <th>56</th>\n",
       "      <td>DIRECTING</td>\n",
       "      <td>False</td>\n",
       "      <td>Lionel Barrymore</td>\n",
       "    </tr>\n",
       "    <tr>\n",
       "      <th>57</th>\n",
       "      <td>DIRECTING</td>\n",
       "      <td>False</td>\n",
       "      <td>Harry Beaumont</td>\n",
       "    </tr>\n",
       "    <tr>\n",
       "      <th>58</th>\n",
       "      <td>DIRECTING</td>\n",
       "      <td>False</td>\n",
       "      <td>Irving Cummings</td>\n",
       "    </tr>\n",
       "    <tr>\n",
       "      <th>59</th>\n",
       "      <td>DIRECTING</td>\n",
       "      <td>True</td>\n",
       "      <td>Frank Lloyd</td>\n",
       "    </tr>\n",
       "    <tr>\n",
       "      <th>60</th>\n",
       "      <td>DIRECTING</td>\n",
       "      <td>False</td>\n",
       "      <td>Frank Lloyd</td>\n",
       "    </tr>\n",
       "  </tbody>\n",
       "</table>\n",
       "</div>"
      ],
      "text/plain": [
       "     category  winner            entity\n",
       "56  DIRECTING   False  Lionel Barrymore\n",
       "57  DIRECTING   False    Harry Beaumont\n",
       "58  DIRECTING   False   Irving Cummings\n",
       "59  DIRECTING    True       Frank Lloyd\n",
       "60  DIRECTING   False       Frank Lloyd"
      ]
     },
     "execution_count": 73,
     "metadata": {},
     "output_type": "execute_result"
    }
   ],
   "source": [
    "# Filter the categories needed\n",
    "df_oscars_m = df_oscars_m[df_oscars_m['category'].isin(['DIRECTING', 'BEST PICTURE'])]\n",
    "df_oscars_m.head()"
   ]
  },
  {
   "cell_type": "code",
   "execution_count": 74,
   "metadata": {},
   "outputs": [
    {
     "data": {
      "text/plain": [
       "array([False,  True])"
      ]
     },
     "execution_count": 74,
     "metadata": {},
     "output_type": "execute_result"
    }
   ],
   "source": [
    "# Verify variable winner values\n",
    "df_oscars_m['winner'].unique()"
   ]
  },
  {
   "cell_type": "code",
   "execution_count": 75,
   "metadata": {},
   "outputs": [
    {
     "data": {
      "text/html": [
       "<div>\n",
       "<style scoped>\n",
       "    .dataframe tbody tr th:only-of-type {\n",
       "        vertical-align: middle;\n",
       "    }\n",
       "\n",
       "    .dataframe tbody tr th {\n",
       "        vertical-align: top;\n",
       "    }\n",
       "\n",
       "    .dataframe thead th {\n",
       "        text-align: right;\n",
       "    }\n",
       "</style>\n",
       "<table border=\"1\" class=\"dataframe\">\n",
       "  <thead>\n",
       "    <tr style=\"text-align: right;\">\n",
       "      <th></th>\n",
       "      <th>category</th>\n",
       "      <th>winner</th>\n",
       "      <th>entity</th>\n",
       "    </tr>\n",
       "  </thead>\n",
       "  <tbody>\n",
       "    <tr>\n",
       "      <th>59</th>\n",
       "      <td>DIRECTING</td>\n",
       "      <td>True</td>\n",
       "      <td>Frank Lloyd</td>\n",
       "    </tr>\n",
       "    <tr>\n",
       "      <th>98</th>\n",
       "      <td>DIRECTING</td>\n",
       "      <td>True</td>\n",
       "      <td>Lewis Milestone</td>\n",
       "    </tr>\n",
       "    <tr>\n",
       "      <th>139</th>\n",
       "      <td>DIRECTING</td>\n",
       "      <td>True</td>\n",
       "      <td>Skippy</td>\n",
       "    </tr>\n",
       "    <tr>\n",
       "      <th>177</th>\n",
       "      <td>DIRECTING</td>\n",
       "      <td>True</td>\n",
       "      <td>Bad Girl</td>\n",
       "    </tr>\n",
       "    <tr>\n",
       "      <th>242</th>\n",
       "      <td>DIRECTING</td>\n",
       "      <td>True</td>\n",
       "      <td>Cavalcade</td>\n",
       "    </tr>\n",
       "  </tbody>\n",
       "</table>\n",
       "</div>"
      ],
      "text/plain": [
       "      category  winner           entity\n",
       "59   DIRECTING    True      Frank Lloyd\n",
       "98   DIRECTING    True  Lewis Milestone\n",
       "139  DIRECTING    True           Skippy\n",
       "177  DIRECTING    True         Bad Girl\n",
       "242  DIRECTING    True        Cavalcade"
      ]
     },
     "execution_count": 75,
     "metadata": {},
     "output_type": "execute_result"
    }
   ],
   "source": [
    "# Choose the winners and leave out the nominees\n",
    "df_oscars_m = df_oscars_m[df_oscars_m['winner'] == True]\n",
    "df_oscars_m.head()"
   ]
  },
  {
   "cell_type": "code",
   "execution_count": 76,
   "metadata": {},
   "outputs": [],
   "source": [
    "# Eliminate winner variable\n",
    "df_oscars_m = df_oscars_m[['category', 'entity']]"
   ]
  },
  {
   "cell_type": "code",
   "execution_count": 77,
   "metadata": {},
   "outputs": [
    {
     "data": {
      "text/html": [
       "<div>\n",
       "<style scoped>\n",
       "    .dataframe tbody tr th:only-of-type {\n",
       "        vertical-align: middle;\n",
       "    }\n",
       "\n",
       "    .dataframe tbody tr th {\n",
       "        vertical-align: top;\n",
       "    }\n",
       "\n",
       "    .dataframe thead th {\n",
       "        text-align: right;\n",
       "    }\n",
       "</style>\n",
       "<table border=\"1\" class=\"dataframe\">\n",
       "  <thead>\n",
       "    <tr style=\"text-align: right;\">\n",
       "      <th></th>\n",
       "      <th>category</th>\n",
       "      <th>movie</th>\n",
       "    </tr>\n",
       "  </thead>\n",
       "  <tbody>\n",
       "    <tr>\n",
       "      <th>59</th>\n",
       "      <td>DIRECTING</td>\n",
       "      <td>Frank Lloyd</td>\n",
       "    </tr>\n",
       "    <tr>\n",
       "      <th>98</th>\n",
       "      <td>DIRECTING</td>\n",
       "      <td>Lewis Milestone</td>\n",
       "    </tr>\n",
       "    <tr>\n",
       "      <th>139</th>\n",
       "      <td>DIRECTING</td>\n",
       "      <td>Skippy</td>\n",
       "    </tr>\n",
       "    <tr>\n",
       "      <th>177</th>\n",
       "      <td>DIRECTING</td>\n",
       "      <td>Bad Girl</td>\n",
       "    </tr>\n",
       "    <tr>\n",
       "      <th>242</th>\n",
       "      <td>DIRECTING</td>\n",
       "      <td>Cavalcade</td>\n",
       "    </tr>\n",
       "  </tbody>\n",
       "</table>\n",
       "</div>"
      ],
      "text/plain": [
       "      category            movie\n",
       "59   DIRECTING      Frank Lloyd\n",
       "98   DIRECTING  Lewis Milestone\n",
       "139  DIRECTING           Skippy\n",
       "177  DIRECTING         Bad Girl\n",
       "242  DIRECTING        Cavalcade"
      ]
     },
     "execution_count": 77,
     "metadata": {},
     "output_type": "execute_result"
    }
   ],
   "source": [
    "# Rename variables\n",
    "df_oscars_m = df_oscars_m.rename(columns={'entity':'movie'})\n",
    "df_oscars_m.head()"
   ]
  },
  {
   "cell_type": "markdown",
   "metadata": {},
   "source": [
    "## OSCAR'S ACTORS AND ACTRESSES DATA FRAME EXPLORATION AND CLEANING"
   ]
  },
  {
   "cell_type": "code",
   "execution_count": 78,
   "metadata": {},
   "outputs": [
    {
     "data": {
      "text/html": [
       "<div>\n",
       "<style scoped>\n",
       "    .dataframe tbody tr th:only-of-type {\n",
       "        vertical-align: middle;\n",
       "    }\n",
       "\n",
       "    .dataframe tbody tr th {\n",
       "        vertical-align: top;\n",
       "    }\n",
       "\n",
       "    .dataframe thead th {\n",
       "        text-align: right;\n",
       "    }\n",
       "</style>\n",
       "<table border=\"1\" class=\"dataframe\">\n",
       "  <thead>\n",
       "    <tr style=\"text-align: right;\">\n",
       "      <th></th>\n",
       "      <th>oscar_no</th>\n",
       "      <th>oscar_yr</th>\n",
       "      <th>award</th>\n",
       "      <th>name</th>\n",
       "      <th>movie</th>\n",
       "      <th>age</th>\n",
       "      <th>birth_pl</th>\n",
       "      <th>birth_date</th>\n",
       "      <th>birth_mo</th>\n",
       "      <th>birth_d</th>\n",
       "      <th>birth_y</th>\n",
       "    </tr>\n",
       "  </thead>\n",
       "  <tbody>\n",
       "    <tr>\n",
       "      <th>0</th>\n",
       "      <td>1</td>\n",
       "      <td>1929</td>\n",
       "      <td>Best actress</td>\n",
       "      <td>Janet Gaynor</td>\n",
       "      <td>7th Heaven</td>\n",
       "      <td>22</td>\n",
       "      <td>Pennsylvania</td>\n",
       "      <td>1906-10-06</td>\n",
       "      <td>10</td>\n",
       "      <td>6</td>\n",
       "      <td>1906</td>\n",
       "    </tr>\n",
       "    <tr>\n",
       "      <th>1</th>\n",
       "      <td>2</td>\n",
       "      <td>1930</td>\n",
       "      <td>Best actress</td>\n",
       "      <td>Mary Pickford</td>\n",
       "      <td>Coquette</td>\n",
       "      <td>37</td>\n",
       "      <td>Canada</td>\n",
       "      <td>1892-04-08</td>\n",
       "      <td>4</td>\n",
       "      <td>8</td>\n",
       "      <td>1892</td>\n",
       "    </tr>\n",
       "    <tr>\n",
       "      <th>2</th>\n",
       "      <td>3</td>\n",
       "      <td>1931</td>\n",
       "      <td>Best actress</td>\n",
       "      <td>Norma Shearer</td>\n",
       "      <td>The Divorcee</td>\n",
       "      <td>28</td>\n",
       "      <td>Canada</td>\n",
       "      <td>1902-08-10</td>\n",
       "      <td>8</td>\n",
       "      <td>10</td>\n",
       "      <td>1902</td>\n",
       "    </tr>\n",
       "    <tr>\n",
       "      <th>3</th>\n",
       "      <td>4</td>\n",
       "      <td>1932</td>\n",
       "      <td>Best actress</td>\n",
       "      <td>Marie Dressler</td>\n",
       "      <td>Min and Bill</td>\n",
       "      <td>63</td>\n",
       "      <td>Canada</td>\n",
       "      <td>1868-11-09</td>\n",
       "      <td>11</td>\n",
       "      <td>9</td>\n",
       "      <td>1868</td>\n",
       "    </tr>\n",
       "    <tr>\n",
       "      <th>4</th>\n",
       "      <td>5</td>\n",
       "      <td>1933</td>\n",
       "      <td>Best actress</td>\n",
       "      <td>Helen Hayes</td>\n",
       "      <td>The Sin of Madelon Claudet</td>\n",
       "      <td>32</td>\n",
       "      <td>Washington DC</td>\n",
       "      <td>1900-10-10</td>\n",
       "      <td>10</td>\n",
       "      <td>10</td>\n",
       "      <td>1900</td>\n",
       "    </tr>\n",
       "  </tbody>\n",
       "</table>\n",
       "</div>"
      ],
      "text/plain": [
       "   oscar_no  oscar_yr         award            name  \\\n",
       "0         1      1929  Best actress    Janet Gaynor   \n",
       "1         2      1930  Best actress   Mary Pickford   \n",
       "2         3      1931  Best actress   Norma Shearer   \n",
       "3         4      1932  Best actress  Marie Dressler   \n",
       "4         5      1933  Best actress     Helen Hayes   \n",
       "\n",
       "                        movie  age       birth_pl  birth_date  birth_mo  \\\n",
       "0                  7th Heaven   22   Pennsylvania  1906-10-06        10   \n",
       "1                    Coquette   37         Canada  1892-04-08         4   \n",
       "2                The Divorcee   28         Canada  1902-08-10         8   \n",
       "3                Min and Bill   63         Canada  1868-11-09        11   \n",
       "4  The Sin of Madelon Claudet   32  Washington DC  1900-10-10        10   \n",
       "\n",
       "   birth_d  birth_y  \n",
       "0        6     1906  \n",
       "1        8     1892  \n",
       "2       10     1902  \n",
       "3        9     1868  \n",
       "4       10     1900  "
      ]
     },
     "execution_count": 78,
     "metadata": {},
     "output_type": "execute_result"
    }
   ],
   "source": [
    "# Verify that the data frame has been imported succesfully\n",
    "df_oscars_act.head(5)"
   ]
  },
  {
   "cell_type": "code",
   "execution_count": 79,
   "metadata": {},
   "outputs": [
    {
     "data": {
      "text/plain": [
       "['oscar_no',\n",
       " 'oscar_yr',\n",
       " 'award',\n",
       " 'name',\n",
       " 'movie',\n",
       " 'age',\n",
       " 'birth_pl',\n",
       " 'birth_date',\n",
       " 'birth_mo',\n",
       " 'birth_d',\n",
       " 'birth_y']"
      ]
     },
     "execution_count": 79,
     "metadata": {},
     "output_type": "execute_result"
    }
   ],
   "source": [
    "#Check the variables included \n",
    "list(df_oscars_act.columns)"
   ]
  },
  {
   "cell_type": "code",
   "execution_count": 80,
   "metadata": {},
   "outputs": [
    {
     "data": {
      "text/html": [
       "<div>\n",
       "<style scoped>\n",
       "    .dataframe tbody tr th:only-of-type {\n",
       "        vertical-align: middle;\n",
       "    }\n",
       "\n",
       "    .dataframe tbody tr th {\n",
       "        vertical-align: top;\n",
       "    }\n",
       "\n",
       "    .dataframe thead th {\n",
       "        text-align: right;\n",
       "    }\n",
       "</style>\n",
       "<table border=\"1\" class=\"dataframe\">\n",
       "  <thead>\n",
       "    <tr style=\"text-align: right;\">\n",
       "      <th></th>\n",
       "      <th>oscar_yr</th>\n",
       "      <th>award</th>\n",
       "      <th>movie</th>\n",
       "    </tr>\n",
       "  </thead>\n",
       "  <tbody>\n",
       "    <tr>\n",
       "      <th>0</th>\n",
       "      <td>1929</td>\n",
       "      <td>Best actress</td>\n",
       "      <td>7th Heaven</td>\n",
       "    </tr>\n",
       "    <tr>\n",
       "      <th>1</th>\n",
       "      <td>1930</td>\n",
       "      <td>Best actress</td>\n",
       "      <td>Coquette</td>\n",
       "    </tr>\n",
       "    <tr>\n",
       "      <th>2</th>\n",
       "      <td>1931</td>\n",
       "      <td>Best actress</td>\n",
       "      <td>The Divorcee</td>\n",
       "    </tr>\n",
       "    <tr>\n",
       "      <th>3</th>\n",
       "      <td>1932</td>\n",
       "      <td>Best actress</td>\n",
       "      <td>Min and Bill</td>\n",
       "    </tr>\n",
       "    <tr>\n",
       "      <th>4</th>\n",
       "      <td>1933</td>\n",
       "      <td>Best actress</td>\n",
       "      <td>The Sin of Madelon Claudet</td>\n",
       "    </tr>\n",
       "  </tbody>\n",
       "</table>\n",
       "</div>"
      ],
      "text/plain": [
       "   oscar_yr         award                       movie\n",
       "0      1929  Best actress                  7th Heaven\n",
       "1      1930  Best actress                    Coquette\n",
       "2      1931  Best actress                The Divorcee\n",
       "3      1932  Best actress                Min and Bill\n",
       "4      1933  Best actress  The Sin of Madelon Claudet"
      ]
     },
     "execution_count": 80,
     "metadata": {},
     "output_type": "execute_result"
    }
   ],
   "source": [
    "# Clone the oscars actors and actresses data frame with the variables we need, so we can modify over this one and keep the original intact.\n",
    "df_oscars_act_m = df_oscars_act[['oscar_yr','award','movie']]\n",
    "df_oscars_act_m.head()"
   ]
  },
  {
   "cell_type": "code",
   "execution_count": 81,
   "metadata": {},
   "outputs": [],
   "source": [
    "# Choose the same years as in the oscars data frame\n",
    "df_oscars_act_m = df_oscars_act_m[df_oscars_act_m['oscar_yr'] != 2019]"
   ]
  },
  {
   "cell_type": "code",
   "execution_count": 82,
   "metadata": {},
   "outputs": [],
   "source": [
    "df_oscars_act_m = df_oscars_act[['award', 'movie']]"
   ]
  },
  {
   "cell_type": "code",
   "execution_count": 83,
   "metadata": {},
   "outputs": [
    {
     "data": {
      "text/html": [
       "<div>\n",
       "<style scoped>\n",
       "    .dataframe tbody tr th:only-of-type {\n",
       "        vertical-align: middle;\n",
       "    }\n",
       "\n",
       "    .dataframe tbody tr th {\n",
       "        vertical-align: top;\n",
       "    }\n",
       "\n",
       "    .dataframe thead th {\n",
       "        text-align: right;\n",
       "    }\n",
       "</style>\n",
       "<table border=\"1\" class=\"dataframe\">\n",
       "  <thead>\n",
       "    <tr style=\"text-align: right;\">\n",
       "      <th></th>\n",
       "      <th>category</th>\n",
       "      <th>movie</th>\n",
       "    </tr>\n",
       "  </thead>\n",
       "  <tbody>\n",
       "    <tr>\n",
       "      <th>0</th>\n",
       "      <td>Best actress</td>\n",
       "      <td>7th Heaven</td>\n",
       "    </tr>\n",
       "    <tr>\n",
       "      <th>1</th>\n",
       "      <td>Best actress</td>\n",
       "      <td>Coquette</td>\n",
       "    </tr>\n",
       "    <tr>\n",
       "      <th>2</th>\n",
       "      <td>Best actress</td>\n",
       "      <td>The Divorcee</td>\n",
       "    </tr>\n",
       "    <tr>\n",
       "      <th>3</th>\n",
       "      <td>Best actress</td>\n",
       "      <td>Min and Bill</td>\n",
       "    </tr>\n",
       "    <tr>\n",
       "      <th>4</th>\n",
       "      <td>Best actress</td>\n",
       "      <td>The Sin of Madelon Claudet</td>\n",
       "    </tr>\n",
       "  </tbody>\n",
       "</table>\n",
       "</div>"
      ],
      "text/plain": [
       "       category                       movie\n",
       "0  Best actress                  7th Heaven\n",
       "1  Best actress                    Coquette\n",
       "2  Best actress                The Divorcee\n",
       "3  Best actress                Min and Bill\n",
       "4  Best actress  The Sin of Madelon Claudet"
      ]
     },
     "execution_count": 83,
     "metadata": {},
     "output_type": "execute_result"
    }
   ],
   "source": [
    "df_oscars_act_m = df_oscars_act_m.rename(columns={'award':'category'})\n",
    "df_oscars_act_m.head()"
   ]
  },
  {
   "cell_type": "markdown",
   "metadata": {},
   "source": [
    "## Concatenate both Oscar's data frames"
   ]
  },
  {
   "cell_type": "code",
   "execution_count": 84,
   "metadata": {},
   "outputs": [
    {
     "data": {
      "text/html": [
       "<div>\n",
       "<style scoped>\n",
       "    .dataframe tbody tr th:only-of-type {\n",
       "        vertical-align: middle;\n",
       "    }\n",
       "\n",
       "    .dataframe tbody tr th {\n",
       "        vertical-align: top;\n",
       "    }\n",
       "\n",
       "    .dataframe thead th {\n",
       "        text-align: right;\n",
       "    }\n",
       "</style>\n",
       "<table border=\"1\" class=\"dataframe\">\n",
       "  <thead>\n",
       "    <tr style=\"text-align: right;\">\n",
       "      <th></th>\n",
       "      <th>category</th>\n",
       "      <th>movie</th>\n",
       "    </tr>\n",
       "  </thead>\n",
       "  <tbody>\n",
       "    <tr>\n",
       "      <th>59</th>\n",
       "      <td>DIRECTING</td>\n",
       "      <td>Frank Lloyd</td>\n",
       "    </tr>\n",
       "    <tr>\n",
       "      <th>98</th>\n",
       "      <td>DIRECTING</td>\n",
       "      <td>Lewis Milestone</td>\n",
       "    </tr>\n",
       "    <tr>\n",
       "      <th>139</th>\n",
       "      <td>DIRECTING</td>\n",
       "      <td>Skippy</td>\n",
       "    </tr>\n",
       "    <tr>\n",
       "      <th>177</th>\n",
       "      <td>DIRECTING</td>\n",
       "      <td>Bad Girl</td>\n",
       "    </tr>\n",
       "    <tr>\n",
       "      <th>242</th>\n",
       "      <td>DIRECTING</td>\n",
       "      <td>Cavalcade</td>\n",
       "    </tr>\n",
       "  </tbody>\n",
       "</table>\n",
       "</div>"
      ],
      "text/plain": [
       "      category            movie\n",
       "59   DIRECTING      Frank Lloyd\n",
       "98   DIRECTING  Lewis Milestone\n",
       "139  DIRECTING           Skippy\n",
       "177  DIRECTING         Bad Girl\n",
       "242  DIRECTING        Cavalcade"
      ]
     },
     "execution_count": 84,
     "metadata": {},
     "output_type": "execute_result"
    }
   ],
   "source": [
    "con = pd.concat([df_oscars_m,df_oscars_act_m])\n",
    "con.head()"
   ]
  },
  {
   "cell_type": "code",
   "execution_count": 85,
   "metadata": {},
   "outputs": [
    {
     "data": {
      "text/plain": [
       "329"
      ]
     },
     "execution_count": 85,
     "metadata": {},
     "output_type": "execute_result"
    }
   ],
   "source": [
    "len(con)"
   ]
  },
  {
   "cell_type": "code",
   "execution_count": 86,
   "metadata": {},
   "outputs": [
    {
     "data": {
      "text/plain": [
       "184"
      ]
     },
     "execution_count": 86,
     "metadata": {},
     "output_type": "execute_result"
    }
   ],
   "source": [
    "len(df_oscars_act_m)"
   ]
  },
  {
   "cell_type": "code",
   "execution_count": 87,
   "metadata": {},
   "outputs": [
    {
     "data": {
      "text/plain": [
       "145"
      ]
     },
     "execution_count": 87,
     "metadata": {},
     "output_type": "execute_result"
    }
   ],
   "source": [
    "len(df_oscars_m)"
   ]
  }
 ],
 "metadata": {
  "kernelspec": {
   "display_name": "Python [conda env:pythonData]",
   "language": "python",
   "name": "conda-env-pythonData-py"
  },
  "language_info": {
   "codemirror_mode": {
    "name": "ipython",
    "version": 3
   },
   "file_extension": ".py",
   "mimetype": "text/x-python",
   "name": "python",
   "nbconvert_exporter": "python",
   "pygments_lexer": "ipython3",
   "version": "3.6.10"
  }
 },
 "nbformat": 4,
 "nbformat_minor": 4
}
